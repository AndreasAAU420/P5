{
 "cells": [
  {
   "cell_type": "code",
   "execution_count": 18,
   "metadata": {},
   "outputs": [],
   "source": [
    "import pandas as pd\n",
    "import numpy as np\n",
    "from skimpy import skim\n"
   ]
  },
  {
   "cell_type": "code",
   "execution_count": 5,
   "metadata": {},
   "outputs": [],
   "source": [
    "df = pd.read_csv(\"C:\\DATA\\IndskrivningUddannelsesramme.csv\", sep = \";\")"
   ]
  },
  {
   "cell_type": "code",
   "execution_count": 17,
   "metadata": {},
   "outputs": [
    {
     "data": {
      "text/plain": [
       "array(['Inst. Arkitektur og Medieteknologi',\n",
       "       'Inst. Elektroniske Systemer',\n",
       "       'Inst. Bæredygtighed og Planlægning', 'Inst. Datalogi'],\n",
       "      dtype=object)"
      ]
     },
     "execution_count": 17,
     "metadata": {},
     "output_type": "execute_result"
    }
   ],
   "source": [
    "df[\"InstitutNavn\"].unique()"
   ]
  },
  {
   "cell_type": "code",
   "execution_count": 14,
   "metadata": {},
   "outputs": [
    {
     "data": {
      "text/plain": [
       "KEY                                       0\n",
       "DW_SK_IndskrivningUddannelsesramme    11311\n",
       "StuderendesStudieNummer               11311\n",
       "FakultetNavn                              0\n",
       "InstitutNavn                              0\n",
       "StudienaevnNavn                           0\n",
       "CampusKode                                0\n",
       "CampusNavn                                0\n",
       "Status                                    0\n",
       "Indskrivningsmaade                        0\n",
       "Indskrivningsmaade_Forkortelse            0\n",
       "DW_SK_Dato_RammeStart                     0\n",
       "StartAar                                  0\n",
       "DW_SK_Dato_RammeSlut                      0\n",
       "DW_SK_Dato_Dimission                      0\n",
       "StartAlderGruppe                          0\n",
       "SlutAlderGruppe                           0\n",
       "UddannelsesType                           0\n",
       "Uddannelse                                0\n",
       "KarakterGennemsnit                     6392\n",
       "Orlov                                     0\n",
       "MeritECTS                                 0\n",
       "dtype: int64"
      ]
     },
     "execution_count": 14,
     "metadata": {},
     "output_type": "execute_result"
    }
   ],
   "source": [
    "df.isna().sum()"
   ]
  },
  {
   "cell_type": "code",
   "execution_count": 9,
   "metadata": {},
   "outputs": [
    {
     "data": {
      "text/plain": [
       "array([2023, 2021, 2022, 2020, 2019, 2018, 2017, 2013, 2014, 2015, 2016],\n",
       "      dtype=int64)"
      ]
     },
     "execution_count": 9,
     "metadata": {},
     "output_type": "execute_result"
    }
   ],
   "source": [
    "df[\"StartAar\"].unique()"
   ]
  },
  {
   "cell_type": "code",
   "execution_count": 19,
   "metadata": {},
   "outputs": [
    {
     "name": "stderr",
     "output_type": "stream",
     "text": [
      "C:\\Users\\tobop\\AppData\\Local\\Packages\\PythonSoftwareFoundation.Python.3.9_qbz5n2kfra8p0\\LocalCache\\local-packages\\Python39\\site-packages\\numpy\\lib\\histograms.py:906: RuntimeWarning: invalid value encountered in divide\n",
      "  return n/db/n.sum(), bin_edges\n",
      "C:\\Users\\tobop\\AppData\\Local\\Packages\\PythonSoftwareFoundation.Python.3.9_qbz5n2kfra8p0\\LocalCache\\local-packages\\Python39\\site-packages\\numpy\\lib\\histograms.py:906: RuntimeWarning: invalid value encountered in divide\n",
      "  return n/db/n.sum(), bin_edges\n"
     ]
    },
    {
     "data": {
      "text/html": [
       "<pre style=\"white-space:pre;overflow-x:auto;line-height:normal;font-family:Menlo,'DejaVu Sans Mono',consolas,'Courier New',monospace\">╭──────────────────────────────────────────────── skimpy summary ─────────────────────────────────────────────────╮\n",
       "│ <span style=\"font-style: italic\">         Data Summary         </span> <span style=\"font-style: italic\">      Data Types       </span>                                                          │\n",
       "│ ┏━━━━━━━━━━━━━━━━━━━┳━━━━━━━━┓ ┏━━━━━━━━━━━━━┳━━━━━━━┓                                                          │\n",
       "│ ┃<span style=\"color: #008080; text-decoration-color: #008080; font-weight: bold\"> dataframe         </span>┃<span style=\"color: #008080; text-decoration-color: #008080; font-weight: bold\"> Values </span>┃ ┃<span style=\"color: #008080; text-decoration-color: #008080; font-weight: bold\"> Column Type </span>┃<span style=\"color: #008080; text-decoration-color: #008080; font-weight: bold\"> Count </span>┃                                                          │\n",
       "│ ┡━━━━━━━━━━━━━━━━━━━╇━━━━━━━━┩ ┡━━━━━━━━━━━━━╇━━━━━━━┩                                                          │\n",
       "│ │ Number of rows    │ 11311  │ │ string      │ 14    │                                                          │\n",
       "│ │ Number of columns │ 22     │ │ int32       │ 6     │                                                          │\n",
       "│ └───────────────────┴────────┘ │ float64     │ 2     │                                                          │\n",
       "│                                └─────────────┴───────┘                                                          │\n",
       "│ <span style=\"font-style: italic\">                                                    number                                                    </span>  │\n",
       "│ ┏━━━━━━━━━━━━━━━━┳━━━━━━━┳━━━━━━┳━━━━━━━━━━┳━━━━━━━━━━┳━━━━━━━━━━┳━━━━━━━━━━┳━━━━━━━━━━━┳━━━━━━━━━━━┳━━━━━━━━┓  │\n",
       "│ ┃<span style=\"font-weight: bold\"> column_name    </span>┃<span style=\"font-weight: bold\"> NA    </span>┃<span style=\"font-weight: bold\"> NA % </span>┃<span style=\"font-weight: bold\"> mean     </span>┃<span style=\"font-weight: bold\"> sd       </span>┃<span style=\"font-weight: bold\"> p0       </span>┃<span style=\"font-weight: bold\"> p25      </span>┃<span style=\"font-weight: bold\"> p75       </span>┃<span style=\"font-weight: bold\"> p100      </span>┃<span style=\"font-weight: bold\"> hist   </span>┃  │\n",
       "│ ┡━━━━━━━━━━━━━━━━╇━━━━━━━╇━━━━━━╇━━━━━━━━━━╇━━━━━━━━━━╇━━━━━━━━━━╇━━━━━━━━━━╇━━━━━━━━━━━╇━━━━━━━━━━━╇━━━━━━━━┩  │\n",
       "│ │ <span style=\"color: #af87ff; text-decoration-color: #af87ff\">DW_SK_Indskriv</span> │ <span style=\"color: #008080; text-decoration-color: #008080\">11000</span> │ <span style=\"color: #008080; text-decoration-color: #008080\"> 100</span> │ <span style=\"color: #008080; text-decoration-color: #008080\">     nan</span> │ <span style=\"color: #008080; text-decoration-color: #008080\">     nan</span> │ <span style=\"color: #008080; text-decoration-color: #008080\">     nan</span> │ <span style=\"color: #008080; text-decoration-color: #008080\">     nan</span> │ <span style=\"color: #008080; text-decoration-color: #008080\">      nan</span> │ <span style=\"color: #008080; text-decoration-color: #008080\">      nan</span> │ <span style=\"color: #008000; text-decoration-color: #008000\">      </span> │  │\n",
       "│ │ <span style=\"color: #af87ff; text-decoration-color: #af87ff\">ningUd        </span> │       │      │          │          │          │          │           │           │        │  │\n",
       "│ │ <span style=\"color: #af87ff; text-decoration-color: #af87ff\">StuderendesStu</span> │ <span style=\"color: #008080; text-decoration-color: #008080\">11000</span> │ <span style=\"color: #008080; text-decoration-color: #008080\"> 100</span> │ <span style=\"color: #008080; text-decoration-color: #008080\">     nan</span> │ <span style=\"color: #008080; text-decoration-color: #008080\">     nan</span> │ <span style=\"color: #008080; text-decoration-color: #008080\">     nan</span> │ <span style=\"color: #008080; text-decoration-color: #008080\">     nan</span> │ <span style=\"color: #008080; text-decoration-color: #008080\">      nan</span> │ <span style=\"color: #008080; text-decoration-color: #008080\">      nan</span> │ <span style=\"color: #008000; text-decoration-color: #008000\">      </span> │  │\n",
       "│ │ <span style=\"color: #af87ff; text-decoration-color: #af87ff\">dieNum        </span> │       │      │          │          │          │          │           │           │        │  │\n",
       "│ │ <span style=\"color: #af87ff; text-decoration-color: #af87ff\">DW_SK_Dato_Ram</span> │ <span style=\"color: #008080; text-decoration-color: #008080\">    0</span> │ <span style=\"color: #008080; text-decoration-color: #008080\">   0</span> │ <span style=\"color: #008080; text-decoration-color: #008080\">20000000</span> │ <span style=\"color: #008080; text-decoration-color: #008080\">   31000</span> │ <span style=\"color: #008080; text-decoration-color: #008080\">20000000</span> │ <span style=\"color: #008080; text-decoration-color: #008080\">20000000</span> │ <span style=\"color: #008080; text-decoration-color: #008080\"> 20000000</span> │ <span style=\"color: #008080; text-decoration-color: #008080\"> 20000000</span> │ <span style=\"color: #008000; text-decoration-color: #008000\">██▄▇▇▆</span> │  │\n",
       "│ │ <span style=\"color: #af87ff; text-decoration-color: #af87ff\">meStar        </span> │       │      │          │          │          │          │           │           │        │  │\n",
       "│ │ <span style=\"color: #af87ff; text-decoration-color: #af87ff\">StartAar      </span> │ <span style=\"color: #008080; text-decoration-color: #008080\">    0</span> │ <span style=\"color: #008080; text-decoration-color: #008080\">   0</span> │ <span style=\"color: #008080; text-decoration-color: #008080\">    2000</span> │ <span style=\"color: #008080; text-decoration-color: #008080\">     3.1</span> │ <span style=\"color: #008080; text-decoration-color: #008080\">    2000</span> │ <span style=\"color: #008080; text-decoration-color: #008080\">    2000</span> │ <span style=\"color: #008080; text-decoration-color: #008080\">     2000</span> │ <span style=\"color: #008080; text-decoration-color: #008080\">     2000</span> │ <span style=\"color: #008000; text-decoration-color: #008000\">██▄▇▇▆</span> │  │\n",
       "│ │ <span style=\"color: #af87ff; text-decoration-color: #af87ff\">DW_SK_Dato_Ram</span> │ <span style=\"color: #008080; text-decoration-color: #008080\">    0</span> │ <span style=\"color: #008080; text-decoration-color: #008080\">   0</span> │ <span style=\"color: #008080; text-decoration-color: #008080\">39000000</span> │ <span style=\"color: #008080; text-decoration-color: #008080\">34000000</span> │ <span style=\"color: #008080; text-decoration-color: #008080\">20000000</span> │ <span style=\"color: #008080; text-decoration-color: #008080\">20000000</span> │ <span style=\"color: #008080; text-decoration-color: #008080\"> 20000000</span> │ <span style=\"color: #008080; text-decoration-color: #008080\">100000000</span> │ <span style=\"color: #008000; text-decoration-color: #008000\">█    ▂</span> │  │\n",
       "│ │ <span style=\"color: #af87ff; text-decoration-color: #af87ff\">meSlut        </span> │       │      │          │          │          │          │           │           │        │  │\n",
       "│ │ <span style=\"color: #af87ff; text-decoration-color: #af87ff\">DW_SK_Dato_Dim</span> │ <span style=\"color: #008080; text-decoration-color: #008080\">    0</span> │ <span style=\"color: #008080; text-decoration-color: #008080\">   0</span> │ <span style=\"color: #008080; text-decoration-color: #008080\">65000000</span> │ <span style=\"color: #008080; text-decoration-color: #008080\">40000000</span> │ <span style=\"color: #008080; text-decoration-color: #008080\">20000000</span> │ <span style=\"color: #008080; text-decoration-color: #008080\">20000000</span> │ <span style=\"color: #008080; text-decoration-color: #008080\">100000000</span> │ <span style=\"color: #008080; text-decoration-color: #008080\">100000000</span> │ <span style=\"color: #008000; text-decoration-color: #008000\">▆    █</span> │  │\n",
       "│ │ <span style=\"color: #af87ff; text-decoration-color: #af87ff\">ission        </span> │       │      │          │          │          │          │           │           │        │  │\n",
       "│ │ <span style=\"color: #af87ff; text-decoration-color: #af87ff\">Orlov         </span> │ <span style=\"color: #008080; text-decoration-color: #008080\">    0</span> │ <span style=\"color: #008080; text-decoration-color: #008080\">   0</span> │ <span style=\"color: #008080; text-decoration-color: #008080\">   0.016</span> │ <span style=\"color: #008080; text-decoration-color: #008080\">    0.12</span> │ <span style=\"color: #008080; text-decoration-color: #008080\">       0</span> │ <span style=\"color: #008080; text-decoration-color: #008080\">       0</span> │ <span style=\"color: #008080; text-decoration-color: #008080\">        0</span> │ <span style=\"color: #008080; text-decoration-color: #008080\">        1</span> │ <span style=\"color: #008000; text-decoration-color: #008000\">  █   </span> │  │\n",
       "│ │ <span style=\"color: #af87ff; text-decoration-color: #af87ff\">MeritECTS     </span> │ <span style=\"color: #008080; text-decoration-color: #008080\">    0</span> │ <span style=\"color: #008080; text-decoration-color: #008080\">   0</span> │ <span style=\"color: #008080; text-decoration-color: #008080\">     2.1</span> │ <span style=\"color: #008080; text-decoration-color: #008080\">      11</span> │ <span style=\"color: #008080; text-decoration-color: #008080\">       0</span> │ <span style=\"color: #008080; text-decoration-color: #008080\">       0</span> │ <span style=\"color: #008080; text-decoration-color: #008080\">        0</span> │ <span style=\"color: #008080; text-decoration-color: #008080\">      170</span> │ <span style=\"color: #008000; text-decoration-color: #008000\">  █   </span> │  │\n",
       "│ └────────────────┴───────┴──────┴──────────┴──────────┴──────────┴──────────┴───────────┴───────────┴────────┘  │\n",
       "│ <span style=\"font-style: italic\">                                                    string                                                    </span>  │\n",
       "│ ┏━━━━━━━━━━━━━━━━━━━━━━━━━━━━━━━━━━━━━┳━━━━━━━━━━━┳━━━━━━━━━━┳━━━━━━━━━━━━━━━━━━━━━━━━━┳━━━━━━━━━━━━━━━━━━━━━┓  │\n",
       "│ ┃<span style=\"font-weight: bold\"> column_name                         </span>┃<span style=\"font-weight: bold\"> NA        </span>┃<span style=\"font-weight: bold\"> NA %     </span>┃<span style=\"font-weight: bold\"> words per row           </span>┃<span style=\"font-weight: bold\"> total words         </span>┃  │\n",
       "│ ┡━━━━━━━━━━━━━━━━━━━━━━━━━━━━━━━━━━━━━╇━━━━━━━━━━━╇━━━━━━━━━━╇━━━━━━━━━━━━━━━━━━━━━━━━━╇━━━━━━━━━━━━━━━━━━━━━┩  │\n",
       "│ │ <span style=\"color: #af87ff; text-decoration-color: #af87ff\">KEY                                </span> │ <span style=\"color: #008080; text-decoration-color: #008080\">        0</span> │ <span style=\"color: #008080; text-decoration-color: #008080\">       0</span> │ <span style=\"color: #008080; text-decoration-color: #008080\">                      1</span> │ <span style=\"color: #008080; text-decoration-color: #008080\">              11000</span> │  │\n",
       "│ │ <span style=\"color: #af87ff; text-decoration-color: #af87ff\">FakultetNavn                       </span> │ <span style=\"color: #008080; text-decoration-color: #008080\">        0</span> │ <span style=\"color: #008080; text-decoration-color: #008080\">       0</span> │ <span style=\"color: #008080; text-decoration-color: #008080\">                      1</span> │ <span style=\"color: #008080; text-decoration-color: #008080\">              11000</span> │  │\n",
       "│ │ <span style=\"color: #af87ff; text-decoration-color: #af87ff\">InstitutNavn                       </span> │ <span style=\"color: #008080; text-decoration-color: #008080\">        0</span> │ <span style=\"color: #008080; text-decoration-color: #008080\">       0</span> │ <span style=\"color: #008080; text-decoration-color: #008080\">                      1</span> │ <span style=\"color: #008080; text-decoration-color: #008080\">              11000</span> │  │\n",
       "│ │ <span style=\"color: #af87ff; text-decoration-color: #af87ff\">StudienaevnNavn                    </span> │ <span style=\"color: #008080; text-decoration-color: #008080\">        0</span> │ <span style=\"color: #008080; text-decoration-color: #008080\">       0</span> │ <span style=\"color: #008080; text-decoration-color: #008080\">                      1</span> │ <span style=\"color: #008080; text-decoration-color: #008080\">              11000</span> │  │\n",
       "│ │ <span style=\"color: #af87ff; text-decoration-color: #af87ff\">CampusKode                         </span> │ <span style=\"color: #008080; text-decoration-color: #008080\">        0</span> │ <span style=\"color: #008080; text-decoration-color: #008080\">       0</span> │ <span style=\"color: #008080; text-decoration-color: #008080\">                      1</span> │ <span style=\"color: #008080; text-decoration-color: #008080\">              11000</span> │  │\n",
       "│ │ <span style=\"color: #af87ff; text-decoration-color: #af87ff\">CampusNavn                         </span> │ <span style=\"color: #008080; text-decoration-color: #008080\">        0</span> │ <span style=\"color: #008080; text-decoration-color: #008080\">       0</span> │ <span style=\"color: #008080; text-decoration-color: #008080\">                      1</span> │ <span style=\"color: #008080; text-decoration-color: #008080\">              11000</span> │  │\n",
       "│ │ <span style=\"color: #af87ff; text-decoration-color: #af87ff\">Status                             </span> │ <span style=\"color: #008080; text-decoration-color: #008080\">        0</span> │ <span style=\"color: #008080; text-decoration-color: #008080\">       0</span> │ <span style=\"color: #008080; text-decoration-color: #008080\">                      1</span> │ <span style=\"color: #008080; text-decoration-color: #008080\">              11000</span> │  │\n",
       "│ │ <span style=\"color: #af87ff; text-decoration-color: #af87ff\">Indskrivningsmaade                 </span> │ <span style=\"color: #008080; text-decoration-color: #008080\">        0</span> │ <span style=\"color: #008080; text-decoration-color: #008080\">       0</span> │ <span style=\"color: #008080; text-decoration-color: #008080\">                      1</span> │ <span style=\"color: #008080; text-decoration-color: #008080\">              11000</span> │  │\n",
       "│ │ <span style=\"color: #af87ff; text-decoration-color: #af87ff\">Indskrivningsmaade_F               </span> │ <span style=\"color: #008080; text-decoration-color: #008080\">        0</span> │ <span style=\"color: #008080; text-decoration-color: #008080\">       0</span> │ <span style=\"color: #008080; text-decoration-color: #008080\">                      1</span> │ <span style=\"color: #008080; text-decoration-color: #008080\">              11000</span> │  │\n",
       "│ │ <span style=\"color: #af87ff; text-decoration-color: #af87ff\">StartAlderGruppe                   </span> │ <span style=\"color: #008080; text-decoration-color: #008080\">        0</span> │ <span style=\"color: #008080; text-decoration-color: #008080\">       0</span> │ <span style=\"color: #008080; text-decoration-color: #008080\">                      1</span> │ <span style=\"color: #008080; text-decoration-color: #008080\">              11000</span> │  │\n",
       "│ │ <span style=\"color: #af87ff; text-decoration-color: #af87ff\">SlutAlderGruppe                    </span> │ <span style=\"color: #008080; text-decoration-color: #008080\">        0</span> │ <span style=\"color: #008080; text-decoration-color: #008080\">       0</span> │ <span style=\"color: #008080; text-decoration-color: #008080\">                      1</span> │ <span style=\"color: #008080; text-decoration-color: #008080\">              11000</span> │  │\n",
       "│ │ <span style=\"color: #af87ff; text-decoration-color: #af87ff\">UddannelsesType                    </span> │ <span style=\"color: #008080; text-decoration-color: #008080\">        0</span> │ <span style=\"color: #008080; text-decoration-color: #008080\">       0</span> │ <span style=\"color: #008080; text-decoration-color: #008080\">                      1</span> │ <span style=\"color: #008080; text-decoration-color: #008080\">              11000</span> │  │\n",
       "│ │ <span style=\"color: #af87ff; text-decoration-color: #af87ff\">Uddannelse                         </span> │ <span style=\"color: #008080; text-decoration-color: #008080\">        0</span> │ <span style=\"color: #008080; text-decoration-color: #008080\">       0</span> │ <span style=\"color: #008080; text-decoration-color: #008080\">                      1</span> │ <span style=\"color: #008080; text-decoration-color: #008080\">              11000</span> │  │\n",
       "│ │ <span style=\"color: #af87ff; text-decoration-color: #af87ff\">KarakterGennemsnit                 </span> │ <span style=\"color: #008080; text-decoration-color: #008080\">     6400</span> │ <span style=\"color: #008080; text-decoration-color: #008080\">      57</span> │ <span style=\"color: #008080; text-decoration-color: #008080\">                      1</span> │ <span style=\"color: #008080; text-decoration-color: #008080\">              11000</span> │  │\n",
       "│ └─────────────────────────────────────┴───────────┴──────────┴─────────────────────────┴─────────────────────┘  │\n",
       "╰────────────────────────────────────────────────────── End ──────────────────────────────────────────────────────╯\n",
       "</pre>\n"
      ],
      "text/plain": [
       "╭──────────────────────────────────────────────── skimpy summary ─────────────────────────────────────────────────╮\n",
       "│ \u001b[3m         Data Summary         \u001b[0m \u001b[3m      Data Types       \u001b[0m                                                          │\n",
       "│ ┏━━━━━━━━━━━━━━━━━━━┳━━━━━━━━┓ ┏━━━━━━━━━━━━━┳━━━━━━━┓                                                          │\n",
       "│ ┃\u001b[1;36m \u001b[0m\u001b[1;36mdataframe        \u001b[0m\u001b[1;36m \u001b[0m┃\u001b[1;36m \u001b[0m\u001b[1;36mValues\u001b[0m\u001b[1;36m \u001b[0m┃ ┃\u001b[1;36m \u001b[0m\u001b[1;36mColumn Type\u001b[0m\u001b[1;36m \u001b[0m┃\u001b[1;36m \u001b[0m\u001b[1;36mCount\u001b[0m\u001b[1;36m \u001b[0m┃                                                          │\n",
       "│ ┡━━━━━━━━━━━━━━━━━━━╇━━━━━━━━┩ ┡━━━━━━━━━━━━━╇━━━━━━━┩                                                          │\n",
       "│ │ Number of rows    │ 11311  │ │ string      │ 14    │                                                          │\n",
       "│ │ Number of columns │ 22     │ │ int32       │ 6     │                                                          │\n",
       "│ └───────────────────┴────────┘ │ float64     │ 2     │                                                          │\n",
       "│                                └─────────────┴───────┘                                                          │\n",
       "│ \u001b[3m                                                    number                                                    \u001b[0m  │\n",
       "│ ┏━━━━━━━━━━━━━━━━┳━━━━━━━┳━━━━━━┳━━━━━━━━━━┳━━━━━━━━━━┳━━━━━━━━━━┳━━━━━━━━━━┳━━━━━━━━━━━┳━━━━━━━━━━━┳━━━━━━━━┓  │\n",
       "│ ┃\u001b[1m \u001b[0m\u001b[1mcolumn_name   \u001b[0m\u001b[1m \u001b[0m┃\u001b[1m \u001b[0m\u001b[1mNA   \u001b[0m\u001b[1m \u001b[0m┃\u001b[1m \u001b[0m\u001b[1mNA %\u001b[0m\u001b[1m \u001b[0m┃\u001b[1m \u001b[0m\u001b[1mmean    \u001b[0m\u001b[1m \u001b[0m┃\u001b[1m \u001b[0m\u001b[1msd      \u001b[0m\u001b[1m \u001b[0m┃\u001b[1m \u001b[0m\u001b[1mp0      \u001b[0m\u001b[1m \u001b[0m┃\u001b[1m \u001b[0m\u001b[1mp25     \u001b[0m\u001b[1m \u001b[0m┃\u001b[1m \u001b[0m\u001b[1mp75      \u001b[0m\u001b[1m \u001b[0m┃\u001b[1m \u001b[0m\u001b[1mp100     \u001b[0m\u001b[1m \u001b[0m┃\u001b[1m \u001b[0m\u001b[1mhist  \u001b[0m\u001b[1m \u001b[0m┃  │\n",
       "│ ┡━━━━━━━━━━━━━━━━╇━━━━━━━╇━━━━━━╇━━━━━━━━━━╇━━━━━━━━━━╇━━━━━━━━━━╇━━━━━━━━━━╇━━━━━━━━━━━╇━━━━━━━━━━━╇━━━━━━━━┩  │\n",
       "│ │ \u001b[38;5;141mDW_SK_Indskriv\u001b[0m │ \u001b[36m11000\u001b[0m │ \u001b[36m 100\u001b[0m │ \u001b[36m     nan\u001b[0m │ \u001b[36m     nan\u001b[0m │ \u001b[36m     nan\u001b[0m │ \u001b[36m     nan\u001b[0m │ \u001b[36m      nan\u001b[0m │ \u001b[36m      nan\u001b[0m │ \u001b[32m      \u001b[0m │  │\n",
       "│ │ \u001b[38;5;141mningUd        \u001b[0m │       │      │          │          │          │          │           │           │        │  │\n",
       "│ │ \u001b[38;5;141mStuderendesStu\u001b[0m │ \u001b[36m11000\u001b[0m │ \u001b[36m 100\u001b[0m │ \u001b[36m     nan\u001b[0m │ \u001b[36m     nan\u001b[0m │ \u001b[36m     nan\u001b[0m │ \u001b[36m     nan\u001b[0m │ \u001b[36m      nan\u001b[0m │ \u001b[36m      nan\u001b[0m │ \u001b[32m      \u001b[0m │  │\n",
       "│ │ \u001b[38;5;141mdieNum        \u001b[0m │       │      │          │          │          │          │           │           │        │  │\n",
       "│ │ \u001b[38;5;141mDW_SK_Dato_Ram\u001b[0m │ \u001b[36m    0\u001b[0m │ \u001b[36m   0\u001b[0m │ \u001b[36m20000000\u001b[0m │ \u001b[36m   31000\u001b[0m │ \u001b[36m20000000\u001b[0m │ \u001b[36m20000000\u001b[0m │ \u001b[36m 20000000\u001b[0m │ \u001b[36m 20000000\u001b[0m │ \u001b[32m██▄▇▇▆\u001b[0m │  │\n",
       "│ │ \u001b[38;5;141mmeStar        \u001b[0m │       │      │          │          │          │          │           │           │        │  │\n",
       "│ │ \u001b[38;5;141mStartAar      \u001b[0m │ \u001b[36m    0\u001b[0m │ \u001b[36m   0\u001b[0m │ \u001b[36m    2000\u001b[0m │ \u001b[36m     3.1\u001b[0m │ \u001b[36m    2000\u001b[0m │ \u001b[36m    2000\u001b[0m │ \u001b[36m     2000\u001b[0m │ \u001b[36m     2000\u001b[0m │ \u001b[32m██▄▇▇▆\u001b[0m │  │\n",
       "│ │ \u001b[38;5;141mDW_SK_Dato_Ram\u001b[0m │ \u001b[36m    0\u001b[0m │ \u001b[36m   0\u001b[0m │ \u001b[36m39000000\u001b[0m │ \u001b[36m34000000\u001b[0m │ \u001b[36m20000000\u001b[0m │ \u001b[36m20000000\u001b[0m │ \u001b[36m 20000000\u001b[0m │ \u001b[36m100000000\u001b[0m │ \u001b[32m█    ▂\u001b[0m │  │\n",
       "│ │ \u001b[38;5;141mmeSlut        \u001b[0m │       │      │          │          │          │          │           │           │        │  │\n",
       "│ │ \u001b[38;5;141mDW_SK_Dato_Dim\u001b[0m │ \u001b[36m    0\u001b[0m │ \u001b[36m   0\u001b[0m │ \u001b[36m65000000\u001b[0m │ \u001b[36m40000000\u001b[0m │ \u001b[36m20000000\u001b[0m │ \u001b[36m20000000\u001b[0m │ \u001b[36m100000000\u001b[0m │ \u001b[36m100000000\u001b[0m │ \u001b[32m▆    █\u001b[0m │  │\n",
       "│ │ \u001b[38;5;141mission        \u001b[0m │       │      │          │          │          │          │           │           │        │  │\n",
       "│ │ \u001b[38;5;141mOrlov         \u001b[0m │ \u001b[36m    0\u001b[0m │ \u001b[36m   0\u001b[0m │ \u001b[36m   0.016\u001b[0m │ \u001b[36m    0.12\u001b[0m │ \u001b[36m       0\u001b[0m │ \u001b[36m       0\u001b[0m │ \u001b[36m        0\u001b[0m │ \u001b[36m        1\u001b[0m │ \u001b[32m  █   \u001b[0m │  │\n",
       "│ │ \u001b[38;5;141mMeritECTS     \u001b[0m │ \u001b[36m    0\u001b[0m │ \u001b[36m   0\u001b[0m │ \u001b[36m     2.1\u001b[0m │ \u001b[36m      11\u001b[0m │ \u001b[36m       0\u001b[0m │ \u001b[36m       0\u001b[0m │ \u001b[36m        0\u001b[0m │ \u001b[36m      170\u001b[0m │ \u001b[32m  █   \u001b[0m │  │\n",
       "│ └────────────────┴───────┴──────┴──────────┴──────────┴──────────┴──────────┴───────────┴───────────┴────────┘  │\n",
       "│ \u001b[3m                                                    string                                                    \u001b[0m  │\n",
       "│ ┏━━━━━━━━━━━━━━━━━━━━━━━━━━━━━━━━━━━━━┳━━━━━━━━━━━┳━━━━━━━━━━┳━━━━━━━━━━━━━━━━━━━━━━━━━┳━━━━━━━━━━━━━━━━━━━━━┓  │\n",
       "│ ┃\u001b[1m \u001b[0m\u001b[1mcolumn_name                        \u001b[0m\u001b[1m \u001b[0m┃\u001b[1m \u001b[0m\u001b[1mNA       \u001b[0m\u001b[1m \u001b[0m┃\u001b[1m \u001b[0m\u001b[1mNA %    \u001b[0m\u001b[1m \u001b[0m┃\u001b[1m \u001b[0m\u001b[1mwords per row          \u001b[0m\u001b[1m \u001b[0m┃\u001b[1m \u001b[0m\u001b[1mtotal words        \u001b[0m\u001b[1m \u001b[0m┃  │\n",
       "│ ┡━━━━━━━━━━━━━━━━━━━━━━━━━━━━━━━━━━━━━╇━━━━━━━━━━━╇━━━━━━━━━━╇━━━━━━━━━━━━━━━━━━━━━━━━━╇━━━━━━━━━━━━━━━━━━━━━┩  │\n",
       "│ │ \u001b[38;5;141mKEY                                \u001b[0m │ \u001b[36m        0\u001b[0m │ \u001b[36m       0\u001b[0m │ \u001b[36m                      1\u001b[0m │ \u001b[36m              11000\u001b[0m │  │\n",
       "│ │ \u001b[38;5;141mFakultetNavn                       \u001b[0m │ \u001b[36m        0\u001b[0m │ \u001b[36m       0\u001b[0m │ \u001b[36m                      1\u001b[0m │ \u001b[36m              11000\u001b[0m │  │\n",
       "│ │ \u001b[38;5;141mInstitutNavn                       \u001b[0m │ \u001b[36m        0\u001b[0m │ \u001b[36m       0\u001b[0m │ \u001b[36m                      1\u001b[0m │ \u001b[36m              11000\u001b[0m │  │\n",
       "│ │ \u001b[38;5;141mStudienaevnNavn                    \u001b[0m │ \u001b[36m        0\u001b[0m │ \u001b[36m       0\u001b[0m │ \u001b[36m                      1\u001b[0m │ \u001b[36m              11000\u001b[0m │  │\n",
       "│ │ \u001b[38;5;141mCampusKode                         \u001b[0m │ \u001b[36m        0\u001b[0m │ \u001b[36m       0\u001b[0m │ \u001b[36m                      1\u001b[0m │ \u001b[36m              11000\u001b[0m │  │\n",
       "│ │ \u001b[38;5;141mCampusNavn                         \u001b[0m │ \u001b[36m        0\u001b[0m │ \u001b[36m       0\u001b[0m │ \u001b[36m                      1\u001b[0m │ \u001b[36m              11000\u001b[0m │  │\n",
       "│ │ \u001b[38;5;141mStatus                             \u001b[0m │ \u001b[36m        0\u001b[0m │ \u001b[36m       0\u001b[0m │ \u001b[36m                      1\u001b[0m │ \u001b[36m              11000\u001b[0m │  │\n",
       "│ │ \u001b[38;5;141mIndskrivningsmaade                 \u001b[0m │ \u001b[36m        0\u001b[0m │ \u001b[36m       0\u001b[0m │ \u001b[36m                      1\u001b[0m │ \u001b[36m              11000\u001b[0m │  │\n",
       "│ │ \u001b[38;5;141mIndskrivningsmaade_F               \u001b[0m │ \u001b[36m        0\u001b[0m │ \u001b[36m       0\u001b[0m │ \u001b[36m                      1\u001b[0m │ \u001b[36m              11000\u001b[0m │  │\n",
       "│ │ \u001b[38;5;141mStartAlderGruppe                   \u001b[0m │ \u001b[36m        0\u001b[0m │ \u001b[36m       0\u001b[0m │ \u001b[36m                      1\u001b[0m │ \u001b[36m              11000\u001b[0m │  │\n",
       "│ │ \u001b[38;5;141mSlutAlderGruppe                    \u001b[0m │ \u001b[36m        0\u001b[0m │ \u001b[36m       0\u001b[0m │ \u001b[36m                      1\u001b[0m │ \u001b[36m              11000\u001b[0m │  │\n",
       "│ │ \u001b[38;5;141mUddannelsesType                    \u001b[0m │ \u001b[36m        0\u001b[0m │ \u001b[36m       0\u001b[0m │ \u001b[36m                      1\u001b[0m │ \u001b[36m              11000\u001b[0m │  │\n",
       "│ │ \u001b[38;5;141mUddannelse                         \u001b[0m │ \u001b[36m        0\u001b[0m │ \u001b[36m       0\u001b[0m │ \u001b[36m                      1\u001b[0m │ \u001b[36m              11000\u001b[0m │  │\n",
       "│ │ \u001b[38;5;141mKarakterGennemsnit                 \u001b[0m │ \u001b[36m     6400\u001b[0m │ \u001b[36m      57\u001b[0m │ \u001b[36m                      1\u001b[0m │ \u001b[36m              11000\u001b[0m │  │\n",
       "│ └─────────────────────────────────────┴───────────┴──────────┴─────────────────────────┴─────────────────────┘  │\n",
       "╰────────────────────────────────────────────────────── End ──────────────────────────────────────────────────────╯\n"
      ]
     },
     "metadata": {},
     "output_type": "display_data"
    }
   ],
   "source": [
    "skim(df)"
   ]
  }
 ],
 "metadata": {
  "kernelspec": {
   "display_name": "Python 3",
   "language": "python",
   "name": "python3"
  },
  "language_info": {
   "codemirror_mode": {
    "name": "ipython",
    "version": 3
   },
   "file_extension": ".py",
   "mimetype": "text/x-python",
   "name": "python",
   "nbconvert_exporter": "python",
   "pygments_lexer": "ipython3",
   "version": "3.9.13"
  },
  "orig_nbformat": 4,
  "vscode": {
   "interpreter": {
    "hash": "3297a03a48bf75a3b45cceeca04b9d8f1f7c9c6dc566f45fa948fdefe0395a51"
   }
  }
 },
 "nbformat": 4,
 "nbformat_minor": 2
}
